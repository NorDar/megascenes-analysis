{
 "cells": [
  {
   "cell_type": "code",
   "execution_count": null,
   "metadata": {},
   "outputs": [],
   "source": [
    "import os\n",
    "from pathlib import Path\n",
    "import subprocess\n",
    "from colmap.scripts.python.read_write_model import read_images_binary, read_cameras_binary\n",
    "from colmap.scripts.python.read_write_model import Image, Camera\n",
    "import numpy as np\n",
    "import json\n",
    "import pickle\n",
    "\n",
    "import matplotlib.pyplot as plt\n",
    "import numpy as np\n",
    "from scipy import stats\n",
    "\n",
    "\n",
    "import logging\n",
    "logging.getLogger().setLevel(logging.INFO)"
   ]
  },
  {
   "cell_type": "code",
   "execution_count": null,
   "metadata": {},
   "outputs": [],
   "source": [
    "image_base_path = os.path.join(\"./reconstruct\", \"311/918\", \"colmap\", \"0\")\n",
    "image_bin_path = Path(os.path.join(image_base_path, \"images.bin\"))\n",
    "all_bin_images = read_images_binary(image_bin_path)"
   ]
  },
  {
   "cell_type": "code",
   "execution_count": null,
   "metadata": {},
   "outputs": [],
   "source": [
    "camera_bin_path = Path(os.path.join(image_base_path, \"cameras.bin\"))\n",
    "all_bin_cameras = read_cameras_binary(camera_bin_path)"
   ]
  },
  {
   "cell_type": "code",
   "execution_count": null,
   "metadata": {},
   "outputs": [],
   "source": [
    "n_points = []\n",
    "for k, image in all_bin_images.items():\n",
    "    n_points.append(len(image.point3D_ids))\n",
    "\n",
    "n = np.array(n_points)\n",
    "plt.hist(n, bins=int(np.sqrt(len(n))))"
   ]
  },
  {
   "cell_type": "code",
   "execution_count": null,
   "metadata": {},
   "outputs": [],
   "source": [
    "image.qvec2rotmat()"
   ]
  },
  {
   "cell_type": "code",
   "execution_count": null,
   "metadata": {},
   "outputs": [],
   "source": [
    "image = all_bin_images[972]\n",
    "image.camera_id"
   ]
  },
  {
   "cell_type": "code",
   "execution_count": null,
   "metadata": {},
   "outputs": [],
   "source": [
    "# https://github.com/colmap/colmap/blob/main/src/colmap/sensor/models.h\n",
    "lengths = []\n",
    "for idx, cam in all_bin_cameras.items():\n",
    "    print(np.round(cam.params, 3))\n",
    "    lengths.append(cam.params[0])\n",
    "#all_bin_cameras[image.camera_id].model"
   ]
  },
  {
   "cell_type": "code",
   "execution_count": null,
   "metadata": {},
   "outputs": [],
   "source": [
    "print(np.round(cam.params, 3))"
   ]
  },
  {
   "cell_type": "code",
   "execution_count": null,
   "metadata": {},
   "outputs": [],
   "source": [
    "np.set_printoptions(suppress=True,precision=3)\n",
    "print(\"Params are: f, cx, cz, k\")\n",
    "print(np.round(cam.params, 3))\n",
    "\n",
    "\n",
    "\n",
    "# https://github.com/colmap/colmap/blob/main/src/colmap/sensor/models.h#L281\n",
    "# what is k? https://github.com/colmap/colmap/issues/2628"
   ]
  },
  {
   "cell_type": "code",
   "execution_count": null,
   "metadata": {},
   "outputs": [],
   "source": [
    "\n",
    "l = np.array(lengths)\n",
    "plt.hist(l/100, bins=int(np.sqrt(len(l)*5)))\n",
    "plt.xlim(0, 100)\n",
    "\n",
    "print(np.median(l/100)) # theory by me: most smartphones actually use around the 20-25 mm focal length, 13-16 ultrawide and around 45-55 for zoom...\n",
    "print(stats.mode(np.round(l/100, 0)))"
   ]
  },
  {
   "cell_type": "code",
   "execution_count": null,
   "metadata": {},
   "outputs": [],
   "source": [
    "dir(all_bin_cameras[image.camera_id])"
   ]
  },
  {
   "cell_type": "code",
   "execution_count": null,
   "metadata": {},
   "outputs": [],
   "source": [
    "print(image.qvec2rotmat())\n",
    "R = image.qvec2rotmat()\n",
    "# Rx(psi)\n",
    "# Ry(theta)\n",
    "# Rz(phi)\n",
    "\n",
    "assert R[2,0] != 0, \"the following method will not work now.\"\n",
    "\n",
    "# R = Rz * Ry * Rx"
   ]
  },
  {
   "cell_type": "code",
   "execution_count": null,
   "metadata": {},
   "outputs": [],
   "source": [
    "# y: Theta candidates because two solutions\n",
    "theta1 = np.arcsin(R[2,0])\n",
    "theta2 = np.pi - theta1\n",
    "print(R[2,0])\n",
    "print(theta1, theta2)"
   ]
  },
  {
   "cell_type": "code",
   "execution_count": null,
   "metadata": {},
   "outputs": [],
   "source": [
    "# x: psi\n",
    "psi = np.atan2(R[2,1], R[2,2])\n",
    "print(psi)\n",
    "\n",
    "#attention! if cos(theta) > 0 then positive , if cos(theta < 0) then negative\n",
    "\n",
    "for t in [theta1, theta2]:\n",
    "    assert not np.isclose(np.cos(t), 0), \"must not be 0\"\n",
    "\n",
    "# for this case we compute two psi, except if cos(theta) == 0\n",
    "psi1 = np.atan2(R[2,1]/np.cos(theta1), R[2,2]/np.cos(theta1))\n",
    "psi2 = np.atan2(R[2,1]/np.cos(theta2), R[2,2]/np.cos(theta2))\n",
    "\n",
    "print(psi1, psi2)"
   ]
  },
  {
   "cell_type": "code",
   "execution_count": null,
   "metadata": {},
   "outputs": [],
   "source": [
    "# z: phi\n",
    "\n",
    "phi = np.atan2(R[1,0], R[0,0])\n",
    "print(phi)\n",
    "\n",
    "for t in [theta1, theta2]:\n",
    "    assert not np.isclose(np.cos(t), 0), \"must not be 0\"\n",
    "\n",
    "\n",
    "phi1 = np.atan2(R[1,0]/np.cos(theta1), R[0,0]/np.cos(theta1))\n",
    "phi2 = np.atan2(R[1,0]/np.cos(theta2), R[0,0]/np.cos(theta2))\n",
    "\n",
    "print(phi1, phi2)"
   ]
  },
  {
   "cell_type": "code",
   "execution_count": null,
   "metadata": {},
   "outputs": [],
   "source": [
    "# Two solutions in euler angles (radians?)\n",
    "\n",
    "print(psi1, theta1, phi1)\n",
    "print(psi2, theta2, phi2)\n",
    "\n",
    "# Both solutions are valid"
   ]
  },
  {
   "cell_type": "code",
   "execution_count": null,
   "metadata": {},
   "outputs": [],
   "source": [
    "if False and True:\n",
    "    print(\"hi\")"
   ]
  },
  {
   "cell_type": "code",
   "execution_count": null,
   "metadata": {},
   "outputs": [],
   "source": [
    "# https://eecs.qmul.ac.uk/~gslabaugh/publications/euler.pdf\n",
    "R = image.qvec2rotmat()\n",
    "if np.isclose(R[2,1], 1) or np.isclose(R[2,1], -1):\n",
    "    print(\"degenerate case of cos(theta) = 0\")\n",
    "    phi = 0 # can be anything...\n",
    "    if np.islcose(R[2,0], -1):\n",
    "        theta = np.pi/2\n",
    "        psi = phi + np.atan2(R[0,1], R[0,2])\n",
    "    else:\n",
    "        theta = -np.pi/2\n",
    "        psi = -phi + np.atan2(-R[0,1], -R[0,2])\n",
    "else:\n",
    "    print(\"non-degenerate case where cos(theta) != 0\")\n",
    "    theta1 = -np.asin(R[2,0])\n",
    "    theta2 = np.pi - theta1\n",
    "\n",
    "    psi1 = np.atan2(R[2,1]/np.cos(theta1), R[2,2]/np.cos(theta1))\n",
    "    psi2 = np.atan2(R[2,1]/np.cos(theta2), R[2,2]/np.cos(theta2))\n",
    "\n",
    "    phi1 = np.atan2(R[1,0]/np.cos(theta1), R[0,0]/np.cos(theta1))\n",
    "    phi2 = np.atan2(R[1,0]/np.cos(theta2), R[0,0]/np.cos(theta2))\n",
    "\n",
    "    psi = psi1\n",
    "    theta = theta1\n",
    "    phi = phi1\n",
    "\n",
    "\n",
    "rot1 = np.array([psi1, theta1, phi1])\n",
    "rot2 = np.array([psi2, theta2, phi2])\n",
    "print(rot1)\n",
    "print(rot2)"
   ]
  },
  {
   "cell_type": "code",
   "execution_count": null,
   "metadata": {},
   "outputs": [],
   "source": [
    "np.degrees(rot1)"
   ]
  },
  {
   "cell_type": "code",
   "execution_count": null,
   "metadata": {},
   "outputs": [],
   "source": [
    "def radians_from_rotation_matrix(rotation_matrix):\n",
    "    # https://eecs.qmul.ac.uk/~gslabaugh/publications/euler.pdf\n",
    "    R = rotation_matrix\n",
    "\n",
    "    if np.isclose(R[2,1], 1) or np.isclose(R[2,1], -1):\n",
    "        print(\"degenerate case of cos(theta) = 0\")\n",
    "        phi = 0 # can be anything...\n",
    "        if np.islcose(R[2,0], -1):\n",
    "            theta = np.pi/2\n",
    "            psi = phi + np.atan2(R[0,1], R[0,2])\n",
    "        else:\n",
    "            theta = -np.pi/2\n",
    "            psi = -phi + np.atan2(-R[0,1], -R[0,2])\n",
    "    else:\n",
    "        print(\"non-degenerate case where cos(theta) != 0\")\n",
    "        theta1 = -np.asin(R[2,0])\n",
    "        theta2 = np.pi - theta1\n",
    "\n",
    "        psi1 = np.atan2(R[2,1]/np.cos(theta1), R[2,2]/np.cos(theta1))\n",
    "        psi2 = np.atan2(R[2,1]/np.cos(theta2), R[2,2]/np.cos(theta2))\n",
    "\n",
    "        phi1 = np.atan2(R[1,0]/np.cos(theta1), R[0,0]/np.cos(theta1))\n",
    "        phi2 = np.atan2(R[1,0]/np.cos(theta2), R[0,0]/np.cos(theta2))\n",
    "\n",
    "        psi = psi1\n",
    "        theta = theta1\n",
    "        phi = phi1\n",
    "\n",
    "    return psi, theta, phi\n",
    "\n",
    "print(radians_from_rotation_matrix(image.qvec2rotmat()))\n"
   ]
  },
  {
   "cell_type": "code",
   "execution_count": null,
   "metadata": {},
   "outputs": [],
   "source": [
    "# https://stackoverflow.com/questions/77655360/direction-vector-correctly-scale-sinradiansx-cosradiansz-with-y-axis\n",
    "def radians_to_unit_coord(radian_rotaion):\n",
    "    ''' Includes a correction for different coordinate system like \n",
    "        extract_extrinsic_campera_position.fix_rotaion_in_space\n",
    "    '''\n",
    "    dir_x = np.sin(radian_rotaion[2]) * np.cos(radian_rotaion[1])\n",
    "    dir_y = np.sin(radian_rotaion[1])\n",
    "    dir_z = np.cos(radian_rotaion[2]) * np.cos(radian_rotaion[1])\n",
    "\n",
    "    vector = (dir_x, dir_y, dir_z)\n",
    "    uv =  vector / np.linalg.norm(vector)\n",
    "    rotated_vector = np.zeros_like(uv)\n",
    "    rotated_vector[0] = -uv[2]\n",
    "    rotated_vector[1] = uv[0]\n",
    "    rotated_vector[2] = -uv[1]\n",
    "    return rotated_vector\n",
    "    # return uv\n",
    "\n",
    "\n",
    "print(radians_to_unit_coord(rot1))\n",
    "print(radians_to_unit_coord(rot2))"
   ]
  },
  {
   "cell_type": "code",
   "execution_count": null,
   "metadata": {},
   "outputs": [],
   "source": [
    "radians = radians_from_rotation_matrix(image.qvec2rotmat())\n",
    "unit_vector = radians_to_unit_coord(radians)\n",
    "unit_vector"
   ]
  },
  {
   "cell_type": "code",
   "execution_count": null,
   "metadata": {},
   "outputs": [],
   "source": [
    "unit_vectors = []\n",
    "for k, image in all_bin_images.items():\n",
    "    unit_vectors.append(radians_to_unit_coord(radians_from_rotation_matrix(image.qvec2rotmat())))\n",
    "\n",
    "v = np.array(unit_vectors)\n",
    "d_v = np.concatenate((np.zeros_like(v), v), axis = 1)"
   ]
  },
  {
   "cell_type": "code",
   "execution_count": null,
   "metadata": {},
   "outputs": [],
   "source": [
    "d_v"
   ]
  },
  {
   "cell_type": "code",
   "execution_count": null,
   "metadata": {},
   "outputs": [],
   "source": [
    "import matplotlib.pyplot as plt\n",
    "from mpl_toolkits.mplot3d import Axes3D\n",
    "\n",
    "fig = plt.figure(figsize=(10,10))\n",
    "ax = fig.add_subplot(111, projection='3d')\n",
    "for vector in d_v:\n",
    "    v = np.array([vector[3],vector[4],vector[5]])\n",
    "    vlength=np.linalg.norm(v)\n",
    "    ax.quiver(vector[0],vector[1],vector[2],vector[3],vector[4],vector[5],\n",
    "            pivot='tail',length=vlength,arrow_length_ratio=0.3/vlength)\n",
    "\n",
    "axis_scaler = 1.1\n",
    "ax.set_xlim([-axis_scaler,axis_scaler])\n",
    "ax.set_ylim([-axis_scaler,axis_scaler])\n",
    "ax.set_zlim([-axis_scaler,axis_scaler])\n",
    "ax.set_xlabel('x')\n",
    "ax.set_ylabel('y')\n",
    "ax.set_zlabel('z')\n",
    "plt.show()"
   ]
  },
  {
   "cell_type": "markdown",
   "metadata": {},
   "source": [
    "# Create intrinsics dict"
   ]
  },
  {
   "cell_type": "code",
   "execution_count": null,
   "metadata": {},
   "outputs": [],
   "source": [
    "all_bin_cameras[image.camera_id]"
   ]
  },
  {
   "cell_type": "code",
   "execution_count": null,
   "metadata": {},
   "outputs": [],
   "source": [
    "'''Camera params are f, cx, cz, k'''\n",
    "# https://github.com/colmap/colmap/blob/main/src/colmap/sensor/models.h#L281\n",
    "\n",
    "unit_vectors = []\n",
    "focal_lengths = []\n",
    "image_index = []\n",
    "camera_ids = []\n",
    "#for idx, cam in all_bin_cameras.items():\n",
    "for idx, image in all_bin_images.items():\n",
    "    cam = all_bin_cameras[image.camera_id]\n",
    "    assert cam.model == 'SIMPLE_RADIAL', f\"Camera model is not 'SIMPLE_RADIAL'. Focal length might be at a different parameter.\"\n",
    "\n",
    "    unit_vectors.append(radians_to_unit_coord(radians_from_rotation_matrix(image.qvec2rotmat())))\n",
    "    focal_lengths.append(cam.params[0])\n",
    "    image_index.append(idx)\n",
    "    camera_ids.append(image.camera_id)"
   ]
  },
  {
   "cell_type": "code",
   "execution_count": null,
   "metadata": {},
   "outputs": [],
   "source": [
    "# intrinsics.json\n",
    "\n",
    "camera_intrinsics = {image_index: \n",
    "    {\n",
    "        \"unit_vector\": vector.tolist(),\n",
    "        \"focal_length\": float(length), \n",
    "        \"camera_id\": cam_id\n",
    "    }\n",
    "    for image_index, vector, length, cam_id in zip(image_index, unit_vectors, focal_lengths, camera_ids)\n",
    "}\n",
    "\n",
    "camera_intrinsics"
   ]
  }
 ],
 "metadata": {
  "kernelspec": {
   "display_name": "Python 3",
   "language": "python",
   "name": "python3"
  },
  "language_info": {
   "codemirror_mode": {
    "name": "ipython",
    "version": 3
   },
   "file_extension": ".py",
   "mimetype": "text/x-python",
   "name": "python",
   "nbconvert_exporter": "python",
   "pygments_lexer": "ipython3",
   "version": "3.11.9"
  }
 },
 "nbformat": 4,
 "nbformat_minor": 2
}

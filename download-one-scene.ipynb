{
 "cells": [
  {
   "cell_type": "markdown",
   "metadata": {},
   "source": [
    "# Grossmünster #311/918, scene 0"
   ]
  },
  {
   "cell_type": "code",
   "execution_count": null,
   "metadata": {},
   "outputs": [],
   "source": [
    "!s5cmd --no-sign-request ls s3://megascenes/reconstruct/311/918/colmap/0/"
   ]
  },
  {
   "cell_type": "code",
   "execution_count": null,
   "metadata": {},
   "outputs": [],
   "source": [
    "!s5cmd --no-sign-request ls -H s3://megascenes/databases/databases/ #main/311/918/"
   ]
  },
  {
   "cell_type": "code",
   "execution_count": null,
   "metadata": {},
   "outputs": [],
   "source": [
    "!s5cmd --no-sign-request cp s3://megascenes/reconstruct/311/918/colmap/0/* ./reconstruct/311/918/colmap/0/\n",
    "!s5cmd --no-sign-request cp s3://megascenes/reconstruct_aux/311/918/colmap/0/* ./reconstruct_aux/311/918/colmap/0/\n",
    "!s5cmd --no-sign-request cp s3://megascenes/databases/main/311/918/* ./databases/main/311/918/\n",
    "\n",
    "!ls -lah ./reconstruct/311/918/colmap/0/"
   ]
  },
  {
   "cell_type": "code",
   "execution_count": null,
   "metadata": {},
   "outputs": [],
   "source": [
    "import pycolmap\n",
    "import pandas as pd\n",
    "import sqlite3\n",
    "import os\n",
    "\n",
    "\n",
    "reconstruction = pycolmap.Reconstruction(\"./reconstruct/311/918/colmap/0/\")\n",
    "reconstruction.summary()"
   ]
  },
  {
   "cell_type": "code",
   "execution_count": null,
   "metadata": {},
   "outputs": [],
   "source": [
    "reconstruction"
   ]
  },
  {
   "cell_type": "code",
   "execution_count": null,
   "metadata": {},
   "outputs": [],
   "source": [
    "for image_id, image in reconstruction.images.items():\n",
    "    print(image_id, image)\n",
    "    break"
   ]
  },
  {
   "cell_type": "code",
   "execution_count": null,
   "metadata": {},
   "outputs": [],
   "source": [
    "\n",
    "#reconstruction.images[3].projection_center()\n",
    "#reconstruction.images[3].summary()\n",
    "#reconstruction.images[3].viewing_directio()\n",
    "\n",
    "\n",
    "print(reconstruction.images[3].cam_from_world)\n",
    "print(reconstruction.images[3].projection_center())\n",
    "print(reconstruction.images[3].summary())\n",
    "print(reconstruction.images[3].viewing_direction())"
   ]
  },
  {
   "cell_type": "code",
   "execution_count": null,
   "metadata": {},
   "outputs": [],
   "source": [
    "img = reconstruction.images[3].todict()\n",
    "del img[\"points2D\"]\n",
    "coords = img[\"cam_from_world\"][\"translation\"]\n",
    "img"
   ]
  },
  {
   "cell_type": "code",
   "execution_count": null,
   "metadata": {},
   "outputs": [],
   "source": [
    "from colmap.scripts.python.read_write_model import read_images_binary\n",
    "\n",
    "all_bin_images = read_images_binary(\"reconstruct/311/918/colmap/0/images.bin\")\n",
    "len(all_bin_images)"
   ]
  },
  {
   "cell_type": "code",
   "execution_count": null,
   "metadata": {},
   "outputs": [],
   "source": [
    "img = all_bin_images[3]\n",
    "\n",
    "['camera_id',\n",
    " 'count',\n",
    " 'id',\n",
    " 'index',\n",
    " 'name',\n",
    " 'point3D_ids',\n",
    " 'qvec',\n",
    " 'qvec2rotmat',\n",
    " 'tvec',\n",
    " 'xys']\n",
    "print(img.camera_id)\n",
    "print(img.qvec)\n",
    "print(img.qvec2rotmat())\n",
    "print(img.tvec)\n",
    "print(img.xys.shape)"
   ]
  },
  {
   "cell_type": "markdown",
   "metadata": {},
   "source": [
    "https://colmap.github.io/format.html#images-txt   \n",
    "The coordinates of the projection/camera center are given by -R^t * T, where R^t is the inverse/transpose of the 3x3 rotation matrix composed from the quaternion and T is the translation vector."
   ]
  },
  {
   "cell_type": "code",
   "execution_count": null,
   "metadata": {},
   "outputs": [],
   "source": [
    "import numpy as np\n",
    "from colmap.scripts.python.read_write_model import Image\n",
    "import pandas as pd\n",
    "import plotly.express as px\n",
    "\n",
    "def get_coordinates_from_image(img:Image) -> np.array:\n",
    "    # https://colmap.github.io/format.html#images-txt\n",
    "    Rt = img.qvec2rotmat().transpose() # https://automaticaddison.com/how-to-convert-a-quaternion-to-a-rotation-matrix/\n",
    "    T = img.tvec\n",
    "\n",
    "    coordinates = np.matmul(-Rt, T)\n",
    "    return coordinates\n",
    "\n",
    "get_coordinates_from_image(img)"
   ]
  },
  {
   "cell_type": "code",
   "execution_count": null,
   "metadata": {},
   "outputs": [],
   "source": [
    "image_coordinates = []\n",
    "image_index = []\n",
    "for index, image in all_bin_images.items():\n",
    "    image_coordinates.append(get_coordinates_from_image(image))\n",
    "    image_index.append(index)\n",
    "\n",
    "image_coordinates = np.vstack(image_coordinates)\n",
    "print(image_coordinates.shape)\n",
    "\n",
    "x = -image_coordinates[:,2]\n",
    "y = image_coordinates[:,0]\n",
    "z = -image_coordinates[:,1]\n",
    "xyz = np.concatenate([[x],[y],[z]], axis=0).T\n",
    "print(xyz.shape)\n",
    "plot_df = xyz_array_to_plot_df(xyz) # z, x, y\n",
    "plot_xyz(plot_df)"
   ]
  },
  {
   "cell_type": "code",
   "execution_count": null,
   "metadata": {},
   "outputs": [],
   "source": [
    "def xyz_array_to_plot_df(arr):\n",
    "    df = pd.DataFrame(arr, columns=[\"x\", \"y\", \"z\"])\n",
    "\n",
    "    df[\"color\"] = \"black\"\n",
    "\n",
    "    origin = pd.DataFrame({\n",
    "        \"x\": [0],\n",
    "        \"y\": [0], \n",
    "        \"z\": [0],\n",
    "        \"color\": \"red\"\n",
    "    }, index=[99999])\n",
    "\n",
    "    df = pd.concat([df, origin])\n",
    "\n",
    "    return df\n",
    "\n",
    "def plot_xyz(df):\n",
    "    fig = px.scatter_3d(\n",
    "            plot_df, \n",
    "            x=\"x\", \n",
    "            y=\"y\", \n",
    "            z=\"z\", \n",
    "            color =\"color\", \n",
    "            )\n",
    "\n",
    "    fig.update_traces(marker=dict(size=1.5))\n",
    "    fig.show()\n",
    "\n",
    "plot_df = xyz_array_to_plot_df(image_coordinates)\n",
    "plot_xyz(plot_df)"
   ]
  },
  {
   "cell_type": "markdown",
   "metadata": {},
   "source": [
    "# SQLite has only raw data not usable"
   ]
  },
  {
   "cell_type": "code",
   "execution_count": null,
   "metadata": {},
   "outputs": [],
   "source": [
    "\n",
    "con = sqlite3.connect(os.path.normpath('./databases/main/311/918/database.db'))\n",
    "\n",
    "with con:    \n",
    "    cur = con.cursor()    \n",
    "    cur.execute('select image_id, prior_tx, prior_ty, prior_tz from images;')\n",
    "    data = cur.fetchall()   \n",
    "con.close()\n",
    "\n",
    "data[:5]"
   ]
  },
  {
   "cell_type": "code",
   "execution_count": null,
   "metadata": {},
   "outputs": [],
   "source": [
    "import pandas as pd\n",
    "df = pd.DataFrame(data, columns=[\"idx\", \"tx\", \"ty\", \"tz\"])\n",
    "df.set_index(\"idx\", inplace=True)\n",
    "df = df[df[\"tx\"].notnull()]\n",
    "\n",
    "df.loc[mask_low, \"tz\"] = 450\n",
    "df.loc[mask_high, \"tz\"] = df.loc[mask_high, \"tz\"] /1000\n",
    "df[df[\"ty\"] < 8.5] = df.describe().loc[\"50%\"]\n",
    "\n",
    "\n",
    "df[\"color\"] = \"black\"\n",
    "\n",
    "origin = pd.DataFrame({\n",
    "    \"tx\": [0],\n",
    "    \"ty\": [0], \n",
    "    \"tz\": [0],\n",
    "    \"color\": \"red\"\n",
    "}, index=[99999])\n",
    "\n",
    "#df = pd.concat([df, origin])\n",
    "df = pd.concat([df])\n",
    "\n",
    "df"
   ]
  },
  {
   "cell_type": "code",
   "execution_count": null,
   "metadata": {},
   "outputs": [],
   "source": [
    "import plotly.express as px\n",
    "\n",
    "fig = px.scatter_3d(\n",
    "            df, \n",
    "            x=\"tx\", \n",
    "            y=\"ty\", \n",
    "            z=\"tz\", \n",
    "            color =\"color\", \n",
    "            )\n",
    "\n",
    "\n",
    "fig.show()"
   ]
  },
  {
   "cell_type": "markdown",
   "metadata": {},
   "source": [
    "# Alles mumpitz below"
   ]
  },
  {
   "cell_type": "code",
   "execution_count": null,
   "metadata": {},
   "outputs": [],
   "source": [
    "all_cam_coords = []\n",
    "cam_ids = []\n",
    "for id, camera in reconstruction.images.items():\n",
    "    cam_ids.append(id)\n",
    "    all_cam_coords.append(camera.todict()[\"cam_from_world\"][\"translation\"])\n",
    "\n",
    "cam_position = np.vstack(all_cam_coords)\n",
    "cam_position.shape"
   ]
  },
  {
   "cell_type": "code",
   "execution_count": null,
   "metadata": {},
   "outputs": [],
   "source": [
    "df = pd.DataFrame(cam_position, columns=[\"x\", \"y\", \"z\"], index=cam_ids)\n",
    "\n",
    "df[\"color\"] = \"black\"\n",
    "\n",
    "origin = pd.DataFrame({\n",
    "    \"x\": [0],\n",
    "    \"y\": [0], \n",
    "    \"z\": [0],\n",
    "    \"color\": \"red\"\n",
    "}, index=[99999])\n",
    "\n",
    "df = pd.concat([df, origin])\n",
    "df"
   ]
  },
  {
   "cell_type": "code",
   "execution_count": null,
   "metadata": {},
   "outputs": [],
   "source": [
    "fig = plt.figure(figsize=(6, 6))\n",
    "ax = fig.add_subplot(projection='3d')\n",
    "\n",
    "x, y, z = np.split(cam_position, 3, 1)\n",
    "\n",
    "ax.set_box_aspect([1.0, 1.0, 1.0])\n",
    "ax.scatter(x, y, z)\n",
    "\n",
    "\n",
    "ax.scatter(0, 0, 0, \"red\")\n",
    "plt.show()"
   ]
  },
  {
   "cell_type": "code",
   "execution_count": null,
   "metadata": {},
   "outputs": [],
   "source": [
    "\n",
    "df = pd.DataFrame(cam_position, columns=[\"x\", \"y\", \"z\"])\n",
    "\n",
    "df[\"color\"] = \"black\"\n",
    "\n",
    "origin = pd.DataFrame({\n",
    "    \"x\": [0],\n",
    "    \"y\": [0], \n",
    "    \"z\": [0],\n",
    "    \"color\": \"red\"\n",
    "})\n",
    "\n",
    "df = pd.concat([df, origin])\n",
    "df"
   ]
  },
  {
   "cell_type": "code",
   "execution_count": null,
   "metadata": {},
   "outputs": [],
   "source": [
    "import plotly.express as px\n",
    "\n",
    "fig = px.scatter_3d(\n",
    "            df, \n",
    "            x=\"x\", \n",
    "            y=\"y\", \n",
    "            z=\"z\", \n",
    "            color =\"color\", \n",
    "            )\n",
    "\n",
    "\n",
    "fig.show()"
   ]
  }
 ],
 "metadata": {
  "kernelspec": {
   "display_name": "Python 3",
   "language": "python",
   "name": "python3"
  },
  "language_info": {
   "codemirror_mode": {
    "name": "ipython",
    "version": 3
   },
   "file_extension": ".py",
   "mimetype": "text/x-python",
   "name": "python",
   "nbconvert_exporter": "python",
   "pygments_lexer": "ipython3",
   "version": "3.11.9"
  }
 },
 "nbformat": 4,
 "nbformat_minor": 2
}

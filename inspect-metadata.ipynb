{
 "cells": [
  {
   "cell_type": "markdown",
   "metadata": {},
   "source": [
    "We are inspecting Chur of the Holy Sepulchre (Jerusalem) since it contains 11 scenes with two scenes over 100 cameras -> many images  \n",
    "https://megascenes.github.io/web-viewer/?id=25039&rec_no=0  \n",
    "\n",
    "`images/025/039/commons/`\n",
    "\n",
    "contains 103 subfolders \n",
    "\n",
    "```\n",
    "total 0\n",
    "drwxr-xr-x 1 vscode vscode 4096 Nov  1 10:57  .\n",
    "drwxr-xr-x 1 vscode vscode 4096 Nov  1 10:57  ..\n",
    "drwxr-xr-x 1 vscode vscode 4096 Nov  1 10:57 'Altars_in_the_Church_of_the_Holy_Sepulchre_(Jerusalem)'\n",
    "drwxr-xr-x 1 vscode vscode 4096 Nov  1 10:57  Ambulatory_of_the_Church_of_the_Holy_Sepulchre\n",
    "drwxr-xr-x 1 vscode vscode 4096 Nov  1 10:57 'Ancient_graffitis_in_the_Church_of_the_Holy_Sepulchre_(Jerusalem)'\n",
    "drwxr-xr-x 1 vscode vscode 4096 Nov  1 10:57  Armenian_sacristy_in_the_Church_of_the_Holy_Sepulchre\n",
    "...\n",
    "```"
   ]
  },
  {
   "cell_type": "code",
   "execution_count": null,
   "metadata": {},
   "outputs": [],
   "source": [
    "import glob\n",
    "\n",
    "raw_metadata_paths = []\n",
    "for location_id in range(0,10): # max 458152\n",
    "    location_id_string = \"{:06d}\".format(location_id)\n",
    "    location_string = f\"{location_id_string[:3]}/{location_id_string[3:]}\"\n",
    "    location_path = f\"./images/{location_string}/**/raw_metadata.json\"\n",
    "    if location_id % 1000 == 0:\n",
    "        print(f\"scanning {location_string}\")\n",
    "    raw_metadata_paths.append(glob.glob(location_path, recursive=True))\n",
    "\n",
    "\n"
   ]
  },
  {
   "cell_type": "code",
   "execution_count": null,
   "metadata": {},
   "outputs": [],
   "source": [
    "raw_metadata_paths"
   ]
  },
  {
   "cell_type": "code",
   "execution_count": null,
   "metadata": {},
   "outputs": [],
   "source": [
    "all_raw_metadata_paths = glob.glob('./images/000/**/raw_metadata.json', recursive=True)\n",
    "all_raw_metadata_paths[:10]"
   ]
  },
  {
   "cell_type": "code",
   "execution_count": null,
   "metadata": {},
   "outputs": [],
   "source": [
    "import re\n",
    "\n",
    "meta_file = all_raw_metadata_paths[0]\n",
    "def count_images_in_metadata(meta_file):\n",
    "    with open(meta_file)as file:\n",
    "        return len(re.findall('\"pageid\": ', file.read()))\n",
    "    \n",
    "count_images_in_metadata(meta_file=meta_file)\n",
    "\n",
    "# 28 is correct for './images/000/000/commons/Arc_de_Berà/raw_metadata.json'"
   ]
  },
  {
   "cell_type": "code",
   "execution_count": null,
   "metadata": {},
   "outputs": [],
   "source": [
    "!find ./images \"*raw_metadata.json\""
   ]
  },
  {
   "cell_type": "code",
   "execution_count": 8,
   "metadata": {},
   "outputs": [],
   "source": [
    "with open(\"all_raw_metadata_pahts.txt\", \"r\") as f:\n",
    "    raw_metadata_paths = f.read().splitlines()"
   ]
  },
  {
   "cell_type": "code",
   "execution_count": null,
   "metadata": {},
   "outputs": [],
   "source": [
    "raw_metadata_paths[:10]"
   ]
  },
  {
   "cell_type": "code",
   "execution_count": null,
   "metadata": {},
   "outputs": [],
   "source": [
    "with open(\"all_raw_metadata_pahts.txt\", \"r\") as f:\n",
    "    raw_metadata_paths = f.read().splitlines()\n",
    "\n",
    "def count_images_in_metadata(meta_file):\n",
    "    with open(meta_file)as file:\n",
    "        return len(re.findall('\"pageid\": ', file.read()))\n",
    "\n",
    "location_count = []\n",
    "for idx, location in enumerate(raw_metadata_paths):\n",
    "    location_id = \"/\".join(location.split(\"/\")[2:4])\n",
    "\n",
    "    if idx % 1000 == 0:\n",
    "        print(f\"Processing: {location_id}\")\n",
    "\n",
    "    location_name = location.split(\"/\")[5]\n",
    "\n",
    "    img_counts = []\n",
    "    img_counts.append(count_images_in_metadata(location))\n",
    "    sum_counts = sum(img_counts)\n",
    "\n",
    "    location_count.append((location_id, sum_counts, location_name))\n"
   ]
  },
  {
   "cell_type": "code",
   "execution_count": null,
   "metadata": {},
   "outputs": [],
   "source": [
    "location_count[:10]"
   ]
  },
  {
   "cell_type": "code",
   "execution_count": null,
   "metadata": {},
   "outputs": [
    {
     "data": {
      "text/plain": [
       "[('000/000', 28, 'Arc_de_Berà'),\n",
       " ('000/000', 11, 'Historical_images_of_Arc_de_Berà'),\n",
       " ('000/001', 15, 'Arc_de_Triomf_at_night'),\n",
       " ('000/001', 211, 'Arc_de_Triomf_de_Barcelona'),\n",
       " ('000/001', 7, 'Historical_images_of_Arc_de_Triomf_de_Barcelona'),\n",
       " ('000/001', 8, 'La_Recompensa_(Arc_de_Triomf)'),\n",
       " ('000/001', 28, 'Remote_views_of_the_Arc_de_Triomf_(Barcelona)'),\n",
       " ('000/001', 29, 'Sculptures_in_the_Arc_de_Triomf'),\n",
       " ('000/002', 54, 'Arc_de_Triomphe_du_Carrousel'),\n",
       " ('000/002', 9, \"Arc_de_Triomphe_du_Carrousel_-_Nids_d'hirondelles\")]"
      ]
     },
     "execution_count": 18,
     "metadata": {},
     "output_type": "execute_result"
    }
   ],
   "source": [
    "#with open('location_count_repr.txt', 'w') as file:\n",
    "#    file.write(repr(location_count))\n",
    "#https://blog.finxter.com/5-best-ways-to-write-a-list-of-tuples-to-a-file-in-python/\n",
    "\n",
    "#location_count[:10]"
   ]
  },
  {
   "cell_type": "code",
   "execution_count": null,
   "metadata": {},
   "outputs": [],
   "source": [
    "import pickle\n",
    "with open('location_count.pkl', 'wb') as f:\n",
    "    raise(\"asdf\")\n",
    "    pickle.dump(location_count, f)"
   ]
  },
  {
   "cell_type": "code",
   "execution_count": 1,
   "metadata": {},
   "outputs": [],
   "source": [
    "import pickle\n",
    "with open('location_count.pkl', 'rb') as f:\n",
    "    location_count = pickle.load(f)"
   ]
  },
  {
   "cell_type": "code",
   "execution_count": 3,
   "metadata": {},
   "outputs": [
    {
     "data": {
      "text/plain": [
       "[('246/498', 6573, 'Media_from_the_National_Museums_of_World_Culture'),\n",
       " ('190/045', 6386, 'Renovation_of_the_Old_Town_Hall_Tower_(Prague)'),\n",
       " ('233/845', 4696, 'The_Cloisters_Collection,_Metropolitan_Museum_of_Art'),\n",
       " ('233/696', 3928, \"Archive_of_Doual'art\"),\n",
       " ('237/657', 3649, 'PD-Instituto_Moreira_Salles'),\n",
       " ('231/760', 3101, 'Media_from_Beeld_en_Geluid_Wiki'),\n",
       " ('232/374', 2715, 'Google_Art_Project_works_in_The_J._Paul_Getty_Museum'),\n",
       " ('061/882',\n",
       "  2675,\n",
       "  'Cultural_heritage_monuments_in_Central_Administrative_Okrug'),\n",
       " ('388/504', 2433, 'Geghard'),\n",
       " ('026/008', 2321, 'Catedral_San_Sebastián,_Cochabamba')]"
      ]
     },
     "execution_count": 3,
     "metadata": {},
     "output_type": "execute_result"
    }
   ],
   "source": [
    "sorted(location_count, key= lambda x: x[1], reverse=True)[:10]"
   ]
  },
  {
   "cell_type": "code",
   "execution_count": null,
   "metadata": {},
   "outputs": [],
   "source": []
  }
 ],
 "metadata": {
  "kernelspec": {
   "display_name": "Python 3",
   "language": "python",
   "name": "python3"
  },
  "language_info": {
   "codemirror_mode": {
    "name": "ipython",
    "version": 3
   },
   "file_extension": ".py",
   "mimetype": "text/x-python",
   "name": "python",
   "nbconvert_exporter": "python",
   "pygments_lexer": "ipython3",
   "version": "3.11.9"
  }
 },
 "nbformat": 4,
 "nbformat_minor": 2
}

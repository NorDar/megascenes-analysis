{
 "cells": [
  {
   "cell_type": "code",
   "execution_count": null,
   "metadata": {},
   "outputs": [],
   "source": [
    "import json\n",
    "import pandas as pd\n",
    "import numpy as np\n",
    "import pickle\n",
    "from cluster_plots import plot_2d, plot_silhouette\n",
    "from extract_extrinsic_camera_position import download_reconstruction_data, download_images\n",
    "import os\n",
    "from itertools import product\n",
    "from sklearn.cluster import KMeans\n",
    "from sklearn.cluster import DBSCAN\n",
    "import matplotlib.pyplot as plt\n",
    "from scipy.spatial.distance import euclidean\n",
    "from pathlib import Path\n",
    "\n",
    "scenes_dict = {\n",
    "        \"grossmünster\": {\"id\" : \"311/918\", \"recon\": \"0\", \"clusters\": 7},\n",
    "        \"tower_bridge\": {\"id\" : \"001/945\", \"recon\": \"0\", \"clusters\": 20},\n",
    "        \"geghard\":      {\"id\" : \"388/504\", \"recon\": \"0\", \"clusters\": 10},\n",
    "        \"michelangelo_david\":      {\"id\" : \"278/791\", \"recon\": \"0\", \"clusters\": 10},\n",
    "        \"church_holy_sepulchre\":      {\"id\" : \"278/791\", \"recon\": \"0\", \"clusters\": 10},\n",
    "    }\n",
    "\n",
    "selected_scene = \"grossmünster\"\n",
    "\n",
    "outlier_quantile = 0.95\n",
    "\n",
    "\n",
    "\n",
    "scene_id = scenes_dict[selected_scene][\"id\"]\n",
    "reconstruction_id = scenes_dict[selected_scene][\"recon\"]\n"
   ]
  },
  {
   "cell_type": "code",
   "execution_count": null,
   "metadata": {},
   "outputs": [],
   "source": [
    "# Only loading and transforming camera coordinates if the coordinates.json does not exist\n",
    "coords_path = Path(os.path.join(f\"./camera-location\", scene_id, reconstruction_id, \"coordinates.json\"))\n",
    "intrinsics_path = Path(os.path.join(f\"./camera-location\", scene_id, reconstruction_id, \"intrinsics.json\"))\n",
    "if not coords_path.exists() or not intrinsics_path.exists():\n",
    "    download_reconstruction_data(location_id=scene_id, reconstruction_id=reconstruction_id)"
   ]
  },
  {
   "cell_type": "code",
   "execution_count": null,
   "metadata": {},
   "outputs": [],
   "source": [
    "df = pd.read_json(coords_path, orient=\"index\")\n",
    "df = df.set_axis([\"x\", \"y\", \"z\"], axis=1)\n",
    "df.reset_index(inplace=True, names=\"image_id\")\n",
    "df.head()"
   ]
  },
  {
   "cell_type": "code",
   "execution_count": null,
   "metadata": {},
   "outputs": [],
   "source": [
    "df_intrinsics = pd.read_json(intrinsics_path, orient=\"index\")\n",
    "df_intrinsics.reset_index(inplace=True, names=\"image_id\")\n",
    "df_intrinsics.head()"
   ]
  },
  {
   "cell_type": "code",
   "execution_count": null,
   "metadata": {},
   "outputs": [],
   "source": [
    "if not scenes_dict[selected_scene].get(\"clusters\", None):\n",
    "    number_of_clusters = 10\n",
    "else:\n",
    "    number_of_clusters = scenes_dict[selected_scene][\"clusters\"]\n",
    "\n",
    "model = KMeans(n_clusters = number_of_clusters, random_state=42)\n",
    "x = df[[\"x\", \"y\", \"z\"]].values\n",
    "\n",
    "cluster_labels = model.fit_predict(x)\n",
    "df[\"assigned_label\"] = cluster_labels\n",
    "\n",
    "# Create a subplot with 1 row and 2 columns\n",
    "fig, (ax1, ax2) = plt.subplots(1, 2)\n",
    "fig.set_size_inches(10, 4)\n",
    "\n",
    "plot_silhouette(axis=ax1, data=x, labels=cluster_labels, n_clusters=number_of_clusters)\n",
    "plot_2d(axis=ax2, data=x, centers=model.cluster_centers_, labels=cluster_labels, n_clusters=number_of_clusters, cutoff_axis=10)"
   ]
  },
  {
   "cell_type": "code",
   "execution_count": null,
   "metadata": {},
   "outputs": [],
   "source": [
    "def distance_to_cluster_centers(row, centers):\n",
    "    distances = []\n",
    "    for center in centers:\n",
    "        distances.append(euclidean(center, row.values))\n",
    "    \n",
    "    return distances\n",
    "\n",
    "cluster_names = [f\"dist_cluster_{i}\" for i in range(len(model.cluster_centers_))]\n",
    "df[cluster_names] = df[[\"x\", \"y\", \"z\"]].apply(distance_to_cluster_centers, args=(model.cluster_centers_, ), axis=1, result_type=\"expand\")\n",
    "df = df.loc[~df.index.duplicated(),:].copy()\n",
    "df.head(5)"
   ]
  },
  {
   "cell_type": "code",
   "execution_count": null,
   "metadata": {},
   "outputs": [],
   "source": [
    "df.groupby(\"assigned_label\")[\"assigned_label\"].value_counts()"
   ]
  },
  {
   "cell_type": "code",
   "execution_count": null,
   "metadata": {},
   "outputs": [],
   "source": [
    "def z_scores(cluster_columns):\n",
    "    z_columns = []\n",
    "    z_names = []\n",
    "    for series_name, series in cluster_columns.items():\n",
    "        z_columns.append((series - series.mean())/series.std())\n",
    "        z_columns[-1].rename(f\"z_score_{series_name.split('_')[-1]}\", inplace=True)\n",
    "\n",
    "    return pd.concat(z_columns, axis=1)\n",
    "\n",
    "df_z = pd.concat([df, z_scores(df.loc[:,df.columns.str.contains('dist_cluster*')])], axis = 1)\n",
    "df_z = df_z.loc[~df_z.index.duplicated(),:].copy()\n",
    "df_z.head(5)"
   ]
  },
  {
   "cell_type": "code",
   "execution_count": null,
   "metadata": {},
   "outputs": [],
   "source": [
    "def is_outlier(row, threshold=2.5):\n",
    "    assigned_cluster = int(row[\"assigned_label\"])\n",
    "    outlier = int(np.abs(row[f\"z_score_{assigned_cluster}\"]) > threshold)\n",
    "    return outlier\n",
    "\n",
    "\n",
    "def is_quantile_outlier(df, quantile=outlier_quantile):\n",
    "    if not quantile:\n",
    "        quantile = 0.95\n",
    "    dist_names = [n for n in df.columns if \"dist_cluster\" in n]\n",
    "    quantiles = np.diagonal(df.groupby(\"assigned_label\").quantile(quantile)[dist_names])\n",
    "    quantile_list = [quantiles[clus] for clus in df_z[\"assigned_label\"]]\n",
    "    cluster_distances = np.array([df_z[dist_names].to_numpy()[row,cluster] for row, cluster in enumerate(df_z[\"assigned_label\"])])\n",
    "    is_outlier = cluster_distances > quantile_list\n",
    "    print(f\"proportion of outliers: {sum(is_outlier) /len(cluster_distances)}\") # # sanity check \n",
    "    return pd.Series(is_outlier, index=df.index)\n",
    "\n",
    "#df_z[\"is_outlier\"] = df_z.apply(is_outlier, axis=1) # this does not work.........\n",
    "df_z[\"is_outlier\"] = is_quantile_outlier(df_z)\n",
    "df_z.head()"
   ]
  },
  {
   "cell_type": "code",
   "execution_count": null,
   "metadata": {},
   "outputs": [],
   "source": [
    "with open(f\"./image-paths/{scene_id}/{reconstruction_id}/outlier_list.pickle\", \"wb\") as file:\n",
    "    pickle.dump(df_z[df_z[\"is_outlier\"]][\"image_id\"].tolist(), file)\n",
    "print(\"Saved outlier list.\")"
   ]
  },
  {
   "cell_type": "code",
   "execution_count": null,
   "metadata": {},
   "outputs": [],
   "source": [
    "download_images(location_id=scene_id, reconstruction_id=reconstruction_id, outlier_only=True)"
   ]
  },
  {
   "cell_type": "code",
   "execution_count": null,
   "metadata": {},
   "outputs": [],
   "source": [
    "outliers = df_z[df_z[\"is_outlier\"]][\"image_id\"].tolist()\n",
    "with open(f\"./image-paths/{scene_id}/{reconstruction_id}/paths.json\", \"r\") as file:\n",
    "    paths = json.load(file)"
   ]
  },
  {
   "cell_type": "code",
   "execution_count": null,
   "metadata": {},
   "outputs": [],
   "source": [
    "\"\"\"fig, ax = plt.subplots()\n",
    "# only your own z score\n",
    "for i in range(len(model.cluster_centers_)):\n",
    "    df_z[df_z[\"assigned_label\"] == i][f\"z_score_{i}\"].plot.hist(ax=ax)\n",
    "    ax.legend()\"\"\""
   ]
  },
  {
   "cell_type": "code",
   "execution_count": null,
   "metadata": {},
   "outputs": [],
   "source": [
    "print(df_z.groupby(\"assigned_label\")[\"is_outlier\"].sum())\n",
    "\n",
    "for cluster in range(len(model.cluster_centers_)):\n",
    "    print(f\"Showing outliers for cluster {cluster}\")\n"
   ]
  },
  {
   "cell_type": "code",
   "execution_count": null,
   "metadata": {},
   "outputs": [],
   "source": [
    "cluster_df = pd.DataFrame(model.cluster_centers_, columns= [\"x\", \"y\", \"z\"])\n",
    "cluster_df[\"color\"] = \"red\"\n",
    "cluster_df[\"image_id\"] = df_z[\"image_id\"]\n",
    "cluster_df"
   ]
  },
  {
   "cell_type": "code",
   "execution_count": null,
   "metadata": {},
   "outputs": [],
   "source": [
    "filtered_df = df_z[df_z[\"assigned_label\"] == 4]"
   ]
  },
  {
   "cell_type": "code",
   "execution_count": null,
   "metadata": {},
   "outputs": [],
   "source": [
    "def inspect_subpartition(df, subpartition, partition_identifier =\"assigned_label\", min_samples=2):\n",
    "    filtered_df = df_z[df_z[partition_identifier] == 4]\n",
    "    X = filtered_df[[\"x\", \"y\", \"z\"]].to_numpy()\n",
    "    db = DBSCAN(eps=0.3, min_samples=2).fit(X)\n",
    "    filtered_df = filtered_df.assign(**{\"partition_labels\" : [str(i) for i in pd.Series(db.labels_).tolist()]})\n",
    "\n",
    "    return filtered_df, \"partition_labels\"\n",
    "\n",
    "#filtered_df, color_column = inspect_subpartition(df = df_z, subpartition = 4)\n",
    "filtered_df, color_column = (df_z, \"assigned_label\")"
   ]
  },
  {
   "cell_type": "code",
   "execution_count": null,
   "metadata": {},
   "outputs": [],
   "source": [
    "import plotly.express as px\n",
    "import plotly.graph_objects as go\n",
    "from ipywidgets import Output, VBox\n",
    "\n",
    "color_clusters = px.colors.sequential.Plasma[:len(model.cluster_centers_)]\n",
    "color_map = {idx: color for idx, color in enumerate(color_clusters)}\n",
    "\n",
    "\"\"\"layout = go.Layout(\n",
    "             scene=dict(\n",
    "                 aspectmode='data'\n",
    "         ))\"\"\"\n",
    "\n",
    "fig = px.scatter_3d(filtered_df, x=\"x\", y=\"y\", z=\"z\", \n",
    "            color = color_column, \n",
    "            opacity = 0.3,\n",
    "            width=1000,\n",
    "            height=600,\n",
    "            color_discrete_map=color_map,\n",
    "            hover_data=[\"image_id\"],\n",
    "            )\n",
    "\n",
    "fig.update_scenes(aspectmode='data')\n",
    "camera = dict(\n",
    "    eye=dict(x=2, y=2, z=0.1)\n",
    ")\n",
    "\n",
    "fig.update_layout(scene_camera=camera)\n",
    "\n",
    "fig.add_traces(\n",
    "    px.scatter_3d(filtered_df[filtered_df[\"is_outlier\"] == 1], x=\"x\", y=\"y\", z=\"z\",\n",
    "        opacity = 1,\n",
    "        symbol=\"is_outlier\",\n",
    "        symbol_sequence=['diamond-open'],\n",
    "        hover_data=[\"image_id\"],\n",
    "    ).update_traces(marker_line_width=2).data\n",
    ")\n",
    "\n",
    "fig.add_traces(\n",
    "    px.scatter_3d(\n",
    "        cluster_df, x=\"x\", y=\"y\", z=\"z\", \n",
    "        symbol=\"color\",\n",
    "        symbol_sequence=[\"x\"],\n",
    "        color=\"color\"\n",
    "    ).data\n",
    ")\n",
    "\n",
    "fig.show()"
   ]
  },
  {
   "cell_type": "code",
   "execution_count": null,
   "metadata": {},
   "outputs": [],
   "source": [
    "import plotly.express as px\n",
    "import plotly.graph_objects as go\n",
    "from ipywidgets import Output, VBox\n",
    "\n",
    "color_clusters = px.colors.sequential.Plasma[:len(model.cluster_centers_)]\n",
    "color_map = {idx: color for idx, color in enumerate(color_clusters)}\n",
    "\n",
    "\"\"\"layout = go.Layout(\n",
    "             scene=dict(\n",
    "                 aspectmode='data'\n",
    "         ))\"\"\"\n",
    "\n",
    "fig = px.scatter_3d(df_z, x=\"x\", y=\"y\", z=\"z\", \n",
    "            color = \"assigned_label\", \n",
    "            opacity = 0.3,\n",
    "            width=800,\n",
    "            height=800,\n",
    "            color_discrete_map=color_map,\n",
    "            hover_data=[\"image_id\"],\n",
    "            )\n",
    "\n",
    "fig.update_scenes(aspectmode='data')\n",
    "camera = dict(\n",
    "    eye=dict(x=2, y=2, z=0.1)\n",
    ")\n",
    "\n",
    "fig.update_layout(scene_camera=camera)\n",
    "\n",
    "fig.add_traces(\n",
    "    px.scatter_3d(df_z[df_z[\"is_outlier\"] == 1], x=\"x\", y=\"y\", z=\"z\",\n",
    "        opacity = 1,\n",
    "        symbol=\"is_outlier\",\n",
    "        symbol_sequence=['diamond-open'],\n",
    "        hover_data=[\"image_id\"],\n",
    "    ).update_traces(marker_line_width=2).data\n",
    ")\n",
    "\n",
    "fig.add_traces(\n",
    "    px.scatter_3d(\n",
    "        cluster_df, x=\"x\", y=\"y\", z=\"z\", \n",
    "        symbol=\"color\",\n",
    "        symbol_sequence=[\"x\"],\n",
    "        color=\"color\"\n",
    "    ).data\n",
    ")\n",
    "\n",
    "fig.show()"
   ]
  },
  {
   "cell_type": "code",
   "execution_count": null,
   "metadata": {},
   "outputs": [],
   "source": [
    "def get_image_paths_by_ids(id_list:list, scene_id:str, reconstruction_id:str)->str:\n",
    "    path_metadata = os.path.normpath(f\"./image-paths/{scene_id}/{reconstruction_id}/paths.json\")\n",
    "    with open(path_metadata, \"r\") as file:\n",
    "        metadata_paths = json.load(file)\n",
    "\n",
    "    path_prefix = f\"./images/{scene_id}/\"\n",
    "    return [os.path.join(path_prefix, img_path) for idx, img_path in metadata_paths.items() if int(idx) in id_list]"
   ]
  },
  {
   "cell_type": "code",
   "execution_count": null,
   "metadata": {},
   "outputs": [],
   "source": [
    "outliers_per_cluster = []\n",
    "paths_per_cluster = []\n",
    "jinja_export = []\n",
    "for cluster_id in range(number_of_clusters):\n",
    "    o_per_cluster = df_z[df_z[\"is_outlier\"] & (df_z[\"assigned_label\"] == cluster_id)][\"image_id\"].tolist()\n",
    "    p_per_cluster = get_image_paths_by_ids(id_list=o_per_cluster, scene_id=scene_id, reconstruction_id=reconstruction_id)\n",
    "    outliers_per_cluster.append(o_per_cluster)\n",
    "    paths_per_cluster.append(p_per_cluster)\n",
    "    jinja_export.append([(o, p) for o, p in zip(o_per_cluster, p_per_cluster)])\n",
    "    "
   ]
  },
  {
   "cell_type": "code",
   "execution_count": null,
   "metadata": {},
   "outputs": [],
   "source": [
    "from jinja2 import Template, Environment, FileSystemLoader\n",
    "\n",
    "env = Environment(loader=FileSystemLoader('./html/templates'))\n",
    "template = env.get_template('outlier-export.html')\n",
    "output_from_parsed_template = template.render(\n",
    "        scene_id=scenes_dict[selected_scene][\"id\"],\n",
    "        scene_name=selected_scene,\n",
    "        recon_id=scenes_dict[selected_scene][\"recon\"],\n",
    "        clusters=jinja_export,\n",
    "    )\n",
    "\n",
    "html_path = Path(os.path.join(\"html\", \"exports\"))\n",
    "html_path.mkdir(parents=True, exist_ok=True)\n",
    "\n",
    "html_name = f'scene{scenes_dict[selected_scene][\"id\"].replace(\"/\", \"\")}-recon{scenes_dict[selected_scene][\"recon\"]}.html'\n",
    "with open(os.path.join(html_path, html_name), \"w\") as fh:\n",
    "    fh.write(output_from_parsed_template) "
   ]
  },
  {
   "cell_type": "code",
   "execution_count": null,
   "metadata": {},
   "outputs": [],
   "source": [
    "\"\"\"import matplotlib.pyplot as plt\n",
    "import matplotlib.image as mpimg\n",
    "\n",
    "n_horizontal = 3\n",
    "\n",
    "for idx, (cam_ids, image_paths) in enumerate(zip(outliers_per_cluster, paths_per_cluster)):\n",
    "    print(f\"For cluster: {idx}\")\n",
    "    plt.figure()\n",
    "    \n",
    "    for cam_id, image_path in zip(cam_ids, image_paths):\n",
    "        image = mpimg.imread(f\"{image_path}\")\n",
    "        plt.imshow(image)\n",
    "        plt.show()\"\"\""
   ]
  },
  {
   "cell_type": "code",
   "execution_count": null,
   "metadata": {},
   "outputs": [],
   "source": []
  }
 ],
 "metadata": {
  "kernelspec": {
   "display_name": "Python 3",
   "language": "python",
   "name": "python3"
  },
  "language_info": {
   "codemirror_mode": {
    "name": "ipython",
    "version": 3
   },
   "file_extension": ".py",
   "mimetype": "text/x-python",
   "name": "python",
   "nbconvert_exporter": "python",
   "pygments_lexer": "ipython3",
   "version": "3.11.9"
  }
 },
 "nbformat": 4,
 "nbformat_minor": 2
}
